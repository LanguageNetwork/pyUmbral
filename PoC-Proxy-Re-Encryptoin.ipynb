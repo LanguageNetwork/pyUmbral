{
 "cells": [
  {
   "cell_type": "markdown",
   "metadata": {},
   "source": [
    "# https://github.com/LanguageNetwork/pyUmbral"
   ]
  },
  {
   "cell_type": "code",
   "execution_count": 1,
   "metadata": {},
   "outputs": [],
   "source": [
    "from umbral import pre, keys"
   ]
  },
  {
   "cell_type": "markdown",
   "metadata": {},
   "source": [
    "## Encryption, Decryption"
   ]
  },
  {
   "cell_type": "code",
   "execution_count": null,
   "metadata": {
    "scrolled": true
   },
   "outputs": [],
   "source": [
    "# Generate umbral keys for Alice.\n",
    "alices_private_key = keys.UmbralPrivateKey.gen_key()\n",
    "alices_public_key = alices_private_key.get_pubkey()\n",
    "\n",
    "# Encrypt data with Alice's public key.\n",
    "plaintext = b'Proxy Re-encryption is cool!'\n",
    "ciphertext, capsule = pre.encrypt(alices_public_key, plaintext)"
   ]
  },
  {
   "cell_type": "code",
   "execution_count": 3,
   "metadata": {},
   "outputs": [
    {
     "data": {
      "text/plain": [
       "b'm8M?\\xe9\\x8c\\xfd\\xd8z\\xad\\xf3Z\\xc8>\\xa1\\xd3:\\xee\\x88\\x0eS\\xd3\\x01\\xd5\\x8e\\xaf<\\xdbb\\x87\\xa5\\xfc\\xda\\xee\\xeb\\xdb\\xaaa\\xdf\\xaf\\x89\\x90\\xe2\\xfb\\x1bq\\xc6\\xe8\\x14\\xb9\\x83\\x01\\tP\\xa8/'"
      ]
     },
     "execution_count": 3,
     "metadata": {},
     "output_type": "execute_result"
    }
   ],
   "source": [
    "ciphertext"
   ]
  },
  {
   "cell_type": "code",
   "execution_count": 4,
   "metadata": {},
   "outputs": [],
   "source": [
    "cleartext = pre.decrypt(capsule, alices_private_key, ciphertext, alices_public_key)"
   ]
  },
  {
   "cell_type": "code",
   "execution_count": 5,
   "metadata": {},
   "outputs": [
    {
     "data": {
      "text/plain": [
       "b'Proxy Re-encryption is cool!'"
      ]
     },
     "execution_count": 5,
     "metadata": {},
     "output_type": "execute_result"
    }
   ],
   "source": [
    "cleartext"
   ]
  },
  {
   "cell_type": "markdown",
   "metadata": {},
   "source": [
    "## Fragmentation"
   ]
  },
  {
   "cell_type": "code",
   "execution_count": 6,
   "metadata": {},
   "outputs": [],
   "source": [
    "bobs_private_key = keys.UmbralPrivateKey.gen_key()\n",
    "bobs_public_key = bobs_private_key.get_pubkey()\n",
    "\n",
    "# Alice generates split re-encryption keys for Bob with \"M of N\".\n",
    "kfrags = pre.split_rekey(alices_private_key, bobs_public_key, 10, 20)"
   ]
  },
  {
   "cell_type": "code",
   "execution_count": 7,
   "metadata": {},
   "outputs": [
    {
     "data": {
      "text/plain": [
       "[<umbral.fragments.KFrag at 0x10c2caf60>,\n",
       " <umbral.fragments.KFrag at 0x10c2caef0>,\n",
       " <umbral.fragments.KFrag at 0x10c332048>,\n",
       " <umbral.fragments.KFrag at 0x10c332198>,\n",
       " <umbral.fragments.KFrag at 0x10c3322e8>,\n",
       " <umbral.fragments.KFrag at 0x10c332438>,\n",
       " <umbral.fragments.KFrag at 0x10c332588>,\n",
       " <umbral.fragments.KFrag at 0x10c3326d8>,\n",
       " <umbral.fragments.KFrag at 0x10c332828>,\n",
       " <umbral.fragments.KFrag at 0x10c332978>,\n",
       " <umbral.fragments.KFrag at 0x10c332ac8>,\n",
       " <umbral.fragments.KFrag at 0x10c332c18>,\n",
       " <umbral.fragments.KFrag at 0x10c332d68>,\n",
       " <umbral.fragments.KFrag at 0x10c332eb8>,\n",
       " <umbral.fragments.KFrag at 0x10c337048>,\n",
       " <umbral.fragments.KFrag at 0x10c337198>,\n",
       " <umbral.fragments.KFrag at 0x10c3372e8>,\n",
       " <umbral.fragments.KFrag at 0x10c337438>,\n",
       " <umbral.fragments.KFrag at 0x10c337588>,\n",
       " <umbral.fragments.KFrag at 0x10c3376d8>]"
      ]
     },
     "execution_count": 7,
     "metadata": {},
     "output_type": "execute_result"
    }
   ],
   "source": [
    "kfrags"
   ]
  },
  {
   "cell_type": "code",
   "execution_count": 8,
   "metadata": {},
   "outputs": [
    {
     "data": {
      "text/plain": [
       "<umbral.fragments.KFrag at 0x10c2caf60>"
      ]
     },
     "execution_count": 8,
     "metadata": {},
     "output_type": "execute_result"
    }
   ],
   "source": [
    "kfrags[0]"
   ]
  },
  {
   "cell_type": "markdown",
   "metadata": {},
   "source": [
    "## Re-Encryption"
   ]
  },
  {
   "cell_type": "code",
   "execution_count": 9,
   "metadata": {},
   "outputs": [],
   "source": [
    "for kfrag in kfrags:\n",
    "    cfrag = pre.reencrypt(kfrag, capsule)\n",
    "    capsule.attach_cfrag(cfrag)\n",
    "\n",
    "# Bob activates and opens the capsule.\n",
    "cleartext = pre.decrypt(capsule, bobs_private_key,\n",
    "                           ciphertext, alices_public_key)"
   ]
  },
  {
   "cell_type": "code",
   "execution_count": 10,
   "metadata": {},
   "outputs": [
    {
     "data": {
      "text/plain": [
       "b'Proxy Re-encryption is cool!'"
      ]
     },
     "execution_count": 10,
     "metadata": {},
     "output_type": "execute_result"
    }
   ],
   "source": [
    "cleartext"
   ]
  },
  {
   "cell_type": "code",
   "execution_count": null,
   "metadata": {},
   "outputs": [],
   "source": []
  }
 ],
 "metadata": {
  "kernelspec": {
   "display_name": "pipenv-umbral",
   "language": "python",
   "name": "pipenv-umbral"
  },
  "language_info": {
   "codemirror_mode": {
    "name": "ipython",
    "version": 3
   },
   "file_extension": ".py",
   "mimetype": "text/x-python",
   "name": "python",
   "nbconvert_exporter": "python",
   "pygments_lexer": "ipython3",
   "version": "3.6.4"
  }
 },
 "nbformat": 4,
 "nbformat_minor": 2
}
